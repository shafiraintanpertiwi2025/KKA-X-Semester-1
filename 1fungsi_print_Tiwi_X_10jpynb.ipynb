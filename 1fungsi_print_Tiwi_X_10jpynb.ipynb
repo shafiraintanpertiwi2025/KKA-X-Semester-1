{
  "nbformat": 4,
  "nbformat_minor": 0,
  "metadata": {
    "colab": {
      "provenance": [],
      "authorship_tag": "ABX9TyNM1huqXxkI07miOLu/Nh9l",
      "include_colab_link": true
    },
    "kernelspec": {
      "name": "python3",
      "display_name": "Python 3"
    },
    "language_info": {
      "name": "python"
    }
  },
  "cells": [
    {
      "cell_type": "markdown",
      "metadata": {
        "id": "view-in-github",
        "colab_type": "text"
      },
      "source": [
        "<a href=\"https://colab.research.google.com/github/shafiraintanpertiwi2025/KKA-X-Semester-1/blob/main/1fungsi_print_Tiwi_X_10jpynb.ipynb\" target=\"_parent\"><img src=\"https://colab.research.google.com/assets/colab-badge.svg\" alt=\"Open In Colab\"/></a>"
      ]
    },
    {
      "cell_type": "code",
      "execution_count": null,
      "metadata": {
        "colab": {
          "base_uri": "https://localhost:8080/"
        },
        "id": "p7rhRfpdzgnr",
        "outputId": "d9cbc122-2666-4ce3-fd42-5a9c205c97a3"
      },
      "outputs": [
        {
          "output_type": "stream",
          "name": "stdout",
          "text": [
            "hallo word\n"
          ]
        }
      ],
      "source": [
        "print(\"hallo word\")"
      ]
    },
    {
      "cell_type": "code",
      "source": [
        "nama=\"shafira intan pertiwi\"\n",
        "print(nama)"
      ],
      "metadata": {
        "colab": {
          "base_uri": "https://localhost:8080/"
        },
        "id": "wOKASOZw0Ko-",
        "outputId": "8c94372c-7b23-4508-c6a6-b794b621fbe1"
      },
      "execution_count": null,
      "outputs": [
        {
          "output_type": "stream",
          "name": "stdout",
          "text": [
            "shafira intan pertiwi\n"
          ]
        }
      ]
    },
    {
      "cell_type": "code",
      "source": [
        "usia=14\n",
        "print(usia)"
      ],
      "metadata": {
        "colab": {
          "base_uri": "https://localhost:8080/"
        },
        "id": "OL-y_ioR0VgM",
        "outputId": "57d1d380-dedb-4189-8d2a-5cd806276db0"
      },
      "execution_count": null,
      "outputs": [
        {
          "output_type": "stream",
          "name": "stdout",
          "text": [
            "14\n"
          ]
        }
      ]
    },
    {
      "cell_type": "code",
      "source": [
        "namaSaudara=\"m.sultan jalalludin \"\n",
        "print(namaSaudara)"
      ],
      "metadata": {
        "colab": {
          "base_uri": "https://localhost:8080/"
        },
        "id": "hpCXiPDb0j7X",
        "outputId": "f1b9aaeb-1eec-4aa3-df5c-de69d5d30db1"
      },
      "execution_count": null,
      "outputs": [
        {
          "output_type": "stream",
          "name": "stdout",
          "text": [
            "m.sultan jalalludin \n"
          ]
        }
      ]
    },
    {
      "cell_type": "code",
      "source": [
        "nama_panggilan_siswa=\"tiwi\"\n",
        "print(nama_panggilan_siswa)"
      ],
      "metadata": {
        "colab": {
          "base_uri": "https://localhost:8080/"
        },
        "id": "OfQjdzDG0-vh",
        "outputId": "f5ea9f9c-b30b-495b-c074-85cb64cc4958"
      },
      "execution_count": null,
      "outputs": [
        {
          "output_type": "stream",
          "name": "stdout",
          "text": [
            "tiwi\n"
          ]
        }
      ]
    },
    {
      "cell_type": "code",
      "source": [
        "namaSaudara =\"m.sultan jalalludin\"\n",
        "print(\"Nama saudara:\" + namaSaudara)"
      ],
      "metadata": {
        "id": "ZyWrJN7r1T5-",
        "colab": {
          "base_uri": "https://localhost:8080/"
        },
        "outputId": "307e1a3b-0691-4b4b-dc01-a813289a10c7"
      },
      "execution_count": null,
      "outputs": [
        {
          "output_type": "stream",
          "name": "stdout",
          "text": [
            "Nama saudara:m.sultan jalalludin\n"
          ]
        }
      ]
    },
    {
      "cell_type": "code",
      "source": [
        "nama_panggilan_siswa =\"tiwi\"\n",
        "print(\"Nama panggilan siswa tersebut adalah\",nama_panggilan_siswa)#sudah ada spasinya"
      ],
      "metadata": {
        "colab": {
          "base_uri": "https://localhost:8080/"
        },
        "id": "iok59NpBhBQZ",
        "outputId": "b2fb209f-12db-4c48-c728-f333ca046460"
      },
      "execution_count": null,
      "outputs": [
        {
          "output_type": "stream",
          "name": "stdout",
          "text": [
            "Nama panggilan siswa tersebut adalah tiwi\n"
          ]
        }
      ]
    },
    {
      "cell_type": "code",
      "source": [
        "print(f\"nama panggilan siswa tersebut adalah {nama_panggilan_siswa} loh!\")"
      ],
      "metadata": {
        "colab": {
          "base_uri": "https://localhost:8080/"
        },
        "id": "yFiPKpbGhbyt",
        "outputId": "dab224cc-ae67-405f-c2d6-cd9de41aa853"
      },
      "execution_count": null,
      "outputs": [
        {
          "output_type": "stream",
          "name": "stdout",
          "text": [
            "nama panggilan siswa tersebut adalah tiwi loh!\n"
          ]
        }
      ]
    },
    {
      "cell_type": "code",
      "source": [
        "print(\"Nama:shafira intan pertiwi\")\n",
        "print(\"Kelas:X.10\")\n",
        "print(\"No absen:31\")"
      ],
      "metadata": {
        "colab": {
          "base_uri": "https://localhost:8080/"
        },
        "id": "O1QRHYD9hxkc",
        "outputId": "a920b224-67ae-4301-9cea-713e957a6c38"
      },
      "execution_count": null,
      "outputs": [
        {
          "output_type": "stream",
          "name": "stdout",
          "text": [
            "Nama:shafira intan pertiwi\n",
            "Kelas:X.10\n",
            "No absen:31\n"
          ]
        }
      ]
    },
    {
      "cell_type": "code",
      "source": [
        "print(\"Nama\\t\\t:shafira intan pertiwi\\nKelas\\t\\t:X 10\\nNo absen\\t:31\")"
      ],
      "metadata": {
        "colab": {
          "base_uri": "https://localhost:8080/"
        },
        "id": "mzmmt6JgiLHU",
        "outputId": "c7bf2f84-e11e-47d3-a640-0005b60dcfb6"
      },
      "execution_count": null,
      "outputs": [
        {
          "output_type": "stream",
          "name": "stdout",
          "text": [
            "Nama\t\t:shafira intan pertiwi\n",
            "Kelas\t\t:X 10\n",
            "No absen\t:31\n"
          ]
        }
      ]
    },
    {
      "cell_type": "code",
      "source": [
        "print(\"\"\"Nama:shafira intan pertiwi\n",
        "Kelas:X.10\n",
        "No absen:31\"\"\")"
      ],
      "metadata": {
        "colab": {
          "base_uri": "https://localhost:8080/"
        },
        "id": "30O76zVKixdW",
        "outputId": "8aad5c82-ba8f-414a-ce7b-e25f14c32290"
      },
      "execution_count": null,
      "outputs": [
        {
          "output_type": "stream",
          "name": "stdout",
          "text": [
            "Nama:shafira intan pertiwi\n",
            "Kelas:X.10\n",
            "No absen:31\n"
          ]
        }
      ]
    },
    {
      "cell_type": "markdown",
      "source": [
        "# 2.menampilkan variabel"
      ],
      "metadata": {
        "id": "wuoBTVINBGBe"
      }
    },
    {
      "cell_type": "code",
      "source": [
        "nama=\"shafira IP\"\n",
        "usia=14"
      ],
      "metadata": {
        "id": "42hiO2NHBSzn"
      },
      "execution_count": null,
      "outputs": []
    },
    {
      "cell_type": "code",
      "source": [
        "print(f\"Hallo nama saya {nama}.usia saya{usia} tahun\")"
      ],
      "metadata": {
        "colab": {
          "base_uri": "https://localhost:8080/"
        },
        "id": "wStJhXAtezDF",
        "outputId": "e1bb8012-ac43-484a-9293-fd3fa1ddbd5f"
      },
      "execution_count": null,
      "outputs": [
        {
          "output_type": "stream",
          "name": "stdout",
          "text": [
            "Hallo nama saya shafira IP.usia saya14 tahun\n"
          ]
        }
      ]
    },
    {
      "cell_type": "code",
      "source": [
        "print(\"Nama\\t\\t: shafira intan pertiwi\\nkelas\\t\\t:X.10\\nNo absen\\t: 31\")"
      ],
      "metadata": {
        "colab": {
          "base_uri": "https://localhost:8080/"
        },
        "id": "KkBNUNwVf-HW",
        "outputId": "65a07902-d2a7-4c87-9827-85ebeff11d74"
      },
      "execution_count": null,
      "outputs": [
        {
          "output_type": "stream",
          "name": "stdout",
          "text": [
            "Nama\t\t: shafira intan pertiwi\n",
            "kelas\t\t:X.10\n",
            "No absen\t: 31\n"
          ]
        }
      ]
    },
    {
      "cell_type": "code",
      "source": [
        "print (\"bu shinta berkata,\\\"Makan sosis so nice\\\"\")"
      ],
      "metadata": {
        "colab": {
          "base_uri": "https://localhost:8080/"
        },
        "id": "RK1GBd165pjF",
        "outputId": "1bfde4ba-3332-4acf-b02a-d116ba75163a"
      },
      "execution_count": null,
      "outputs": [
        {
          "output_type": "stream",
          "name": "stdout",
          "text": [
            "bu shinta berkata,\"Makan sosis so nice\"\n"
          ]
        }
      ]
    },
    {
      "cell_type": "code",
      "source": [
        "print ('bu shinta berkata,\"Makan sosis so nice\"')"
      ],
      "metadata": {
        "colab": {
          "base_uri": "https://localhost:8080/"
        },
        "id": "sGRGUc6u6MAC",
        "outputId": "cda6241c-7a51-4d14-e19d-8617057f6855"
      },
      "execution_count": null,
      "outputs": [
        {
          "output_type": "stream",
          "name": "stdout",
          "text": [
            "bu shinta berkata,\"Makan sosis so nice\"\n"
          ]
        }
      ]
    },
    {
      "cell_type": "code",
      "source": [
        "print (\"simpan file di local dsk D:\\\\MAN DEMAK\\\\KKA\")"
      ],
      "metadata": {
        "colab": {
          "base_uri": "https://localhost:8080/"
        },
        "id": "ky_9gT9u6fJo",
        "outputId": "c061ac5b-2dc1-4485-aa57-c584b2b1e805"
      },
      "execution_count": null,
      "outputs": [
        {
          "output_type": "stream",
          "name": "stdout",
          "text": [
            "simpan file di local dsk D:\\MAN DEMAK\\KKA\n"
          ]
        }
      ]
    },
    {
      "cell_type": "code",
      "source": [
        "nama_siswa_1=\"tiwi\""
      ],
      "metadata": {
        "id": "1oY3-xtaICKL"
      },
      "execution_count": null,
      "outputs": []
    },
    {
      "cell_type": "code",
      "source": [
        "nama_siswa_2=\"fira\""
      ],
      "metadata": {
        "id": "UJ2af4wKITBg"
      },
      "execution_count": null,
      "outputs": []
    },
    {
      "cell_type": "code",
      "source": [
        "print(nama_siswa_1)"
      ],
      "metadata": {
        "colab": {
          "base_uri": "https://localhost:8080/"
        },
        "id": "X5rl-gBXIf0m",
        "outputId": "7a5027af-9754-42e7-8e90-15242b625204"
      },
      "execution_count": null,
      "outputs": [
        {
          "output_type": "stream",
          "name": "stdout",
          "text": [
            "tiwi\n"
          ]
        }
      ]
    },
    {
      "cell_type": "code",
      "source": [
        "print(nama_siswa_1,  nama_siswa_2)"
      ],
      "metadata": {
        "colab": {
          "base_uri": "https://localhost:8080/"
        },
        "id": "Rq9w3RhhIoaW",
        "outputId": "70582e02-1723-4db9-c56f-bd7bd650b93f"
      },
      "execution_count": null,
      "outputs": [
        {
          "output_type": "stream",
          "name": "stdout",
          "text": [
            "tiwi fira\n"
          ]
        }
      ]
    },
    {
      "cell_type": "code",
      "source": [
        "print (nama_siswa_1,nama_siswa_2,sep=\"-\")"
      ],
      "metadata": {
        "colab": {
          "base_uri": "https://localhost:8080/"
        },
        "id": "OnUwey5kIoj1",
        "outputId": "5454eade-860f-434e-9b35-9687cd661bc9"
      },
      "execution_count": null,
      "outputs": [
        {
          "output_type": "stream",
          "name": "stdout",
          "text": [
            "tiwi-fira\n"
          ]
        }
      ]
    },
    {
      "cell_type": "code",
      "source": [
        "print(nama_siswa_1,nama_siswa_2,nama_siswa_1 ,sep=\"*\")"
      ],
      "metadata": {
        "colab": {
          "base_uri": "https://localhost:8080/"
        },
        "id": "9hhmKbSTJPur",
        "outputId": "ee49669a-d33e-478d-b281-b238746be425"
      },
      "execution_count": null,
      "outputs": [
        {
          "output_type": "stream",
          "name": "stdout",
          "text": [
            "tiwi*fira*tiwi\n"
          ]
        }
      ]
    },
    {
      "cell_type": "code",
      "source": [
        "print (nama_siswa_1,end=\"*\")\n",
        "print (nama_siswa_2)"
      ],
      "metadata": {
        "colab": {
          "base_uri": "https://localhost:8080/"
        },
        "id": "r_-am3jAMi7q",
        "outputId": "9dd06bda-8b64-4004-a0d9-64042cc9b6f6"
      },
      "execution_count": null,
      "outputs": [
        {
          "output_type": "stream",
          "name": "stdout",
          "text": [
            "tiwi*fira\n"
          ]
        }
      ]
    }
  ]
}